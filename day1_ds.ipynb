{
  "nbformat": 4,
  "nbformat_minor": 0,
  "metadata": {
    "colab": {
      "name": "day1_ds.ipynb",
      "provenance": [],
      "collapsed_sections": [],
      "authorship_tag": "ABX9TyPdEDHgG0pAspajsnfb3nNb",
      "include_colab_link": true
    },
    "kernelspec": {
      "name": "python3",
      "display_name": "Python 3"
    },
    "language_info": {
      "name": "python"
    }
  },
  "cells": [
    {
      "cell_type": "markdown",
      "metadata": {
        "id": "view-in-github",
        "colab_type": "text"
      },
      "source": [
        "<a href=\"https://colab.research.google.com/github/BDhivya-md3/day1/blob/main/day1_ds.ipynb\" target=\"_parent\"><img src=\"https://colab.research.google.com/assets/colab-badge.svg\" alt=\"Open In Colab\"/></a>"
      ]
    },
    {
      "cell_type": "code",
      "metadata": {
        "id": "kj8VOvRTZu8W"
      },
      "source": [
        ""
      ],
      "execution_count": null,
      "outputs": []
    },
    {
      "cell_type": "markdown",
      "metadata": {
        "id": "ZYc8umKrcMvG"
      },
      "source": [
        "## **Implementing Numpy using python programming**"
      ]
    },
    {
      "cell_type": "code",
      "metadata": {
        "colab": {
          "base_uri": "https://localhost:8080/"
        },
        "id": "2ETzEELScu3T",
        "outputId": "f3b69367-788f-4d5d-f84b-f571442eec62"
      },
      "source": [
        "import numpy as np\n",
        "a=[1,2,3,4]\n",
        "arr1 = np.array(a)\n",
        "print(arr1)\n",
        "b=[[1,2,3,4],[4,5,6,7]]\n",
        "arr2 = np.array(b)\n",
        "print(arr2)\n"
      ],
      "execution_count": 1,
      "outputs": [
        {
          "output_type": "stream",
          "text": [
            "[1 2 3 4]\n",
            "[[1 2 3 4]\n",
            " [4 5 6 7]]\n"
          ],
          "name": "stdout"
        }
      ]
    },
    {
      "cell_type": "code",
      "metadata": {
        "colab": {
          "base_uri": "https://localhost:8080/",
          "height": 346
        },
        "id": "KjG79muDeNBh",
        "outputId": "5c9a760c-e62d-4de4-c8e0-aa4ab35281ac"
      },
      "source": [
        "import numpy as np\n",
        "import sys\n",
        "s= np.range(0,10000)\n",
        "print(\"size of each element of numpy array in  bytes\")\n",
        "\n"
      ],
      "execution_count": 3,
      "outputs": [
        {
          "output_type": "error",
          "ename": "AttributeError",
          "evalue": "ignored",
          "traceback": [
            "\u001b[0;31m---------------------------------------------------------------------------\u001b[0m",
            "\u001b[0;31mAttributeError\u001b[0m                            Traceback (most recent call last)",
            "\u001b[0;32m<ipython-input-3-b63570204e92>\u001b[0m in \u001b[0;36m<module>\u001b[0;34m()\u001b[0m\n\u001b[1;32m      1\u001b[0m \u001b[0;32mimport\u001b[0m \u001b[0mnumpy\u001b[0m \u001b[0;32mas\u001b[0m \u001b[0mnp\u001b[0m\u001b[0;34m\u001b[0m\u001b[0;34m\u001b[0m\u001b[0m\n\u001b[1;32m      2\u001b[0m \u001b[0;32mimport\u001b[0m \u001b[0msys\u001b[0m\u001b[0;34m\u001b[0m\u001b[0;34m\u001b[0m\u001b[0m\n\u001b[0;32m----> 3\u001b[0;31m \u001b[0ms\u001b[0m\u001b[0;34m=\u001b[0m \u001b[0mnp\u001b[0m\u001b[0;34m.\u001b[0m\u001b[0mrange\u001b[0m\u001b[0;34m(\u001b[0m\u001b[0;36m0\u001b[0m\u001b[0;34m,\u001b[0m\u001b[0;36m10000\u001b[0m\u001b[0;34m)\u001b[0m\u001b[0;34m\u001b[0m\u001b[0;34m\u001b[0m\u001b[0m\n\u001b[0m\u001b[1;32m      4\u001b[0m \u001b[0mprint\u001b[0m\u001b[0;34m(\u001b[0m\u001b[0;34m\"size of each element of numpy array in  bytes\"\u001b[0m\u001b[0;34m)\u001b[0m\u001b[0;34m\u001b[0m\u001b[0;34m\u001b[0m\u001b[0m\n\u001b[1;32m      5\u001b[0m \u001b[0;34m\u001b[0m\u001b[0m\n",
            "\u001b[0;32m/usr/local/lib/python3.7/dist-packages/numpy/__init__.py\u001b[0m in \u001b[0;36m__getattr__\u001b[0;34m(attr)\u001b[0m\n\u001b[1;32m    213\u001b[0m             \u001b[0;32melse\u001b[0m\u001b[0;34m:\u001b[0m\u001b[0;34m\u001b[0m\u001b[0;34m\u001b[0m\u001b[0m\n\u001b[1;32m    214\u001b[0m                 raise AttributeError(\"module {!r} has no attribute \"\n\u001b[0;32m--> 215\u001b[0;31m                                      \"{!r}\".format(__name__, attr))\n\u001b[0m\u001b[1;32m    216\u001b[0m \u001b[0;34m\u001b[0m\u001b[0m\n\u001b[1;32m    217\u001b[0m         \u001b[0;32mdef\u001b[0m \u001b[0m__dir__\u001b[0m\u001b[0;34m(\u001b[0m\u001b[0;34m)\u001b[0m\u001b[0;34m:\u001b[0m\u001b[0;34m\u001b[0m\u001b[0;34m\u001b[0m\u001b[0m\n",
            "\u001b[0;31mAttributeError\u001b[0m: module 'numpy' has no attribute 'range'"
          ]
        }
      ]
    },
    {
      "cell_type": "code",
      "metadata": {
        "colab": {
          "base_uri": "https://localhost:8080/"
        },
        "id": "hzLNKQv3ez_E",
        "outputId": "2fd1ffd1-7789-4f1f-daf6-943150363b5c"
      },
      "source": [
        "import numpy as np\n",
        "import time\n",
        "a = range(10000)\n",
        "b = range(10000)\n",
        "start = time.time()#mark the time\n",
        "#list comprehension(multiply each element of a and b)\n",
        "ab = [(a * b)for a,b in zip(a,b)]\n",
        "end = time.time()# mark the end time\n",
        "print(\"total time taken:\",end-start)\n"
      ],
      "execution_count": 5,
      "outputs": [
        {
          "output_type": "stream",
          "text": [
            "total time taken: 0.002105712890625\n"
          ],
          "name": "stdout"
        }
      ]
    },
    {
      "cell_type": "code",
      "metadata": {
        "colab": {
          "base_uri": "https://localhost:8080/"
        },
        "id": "kmY50tHufnxV",
        "outputId": "58756653-5f10-4d00-c78a-e7dba39c17a5"
      },
      "source": [
        "import numpy as np\n",
        "arr3 = np.array([[1,2,3],[4,5,6]],ndmin=2)#2d np array\n",
        "print(arr3)"
      ],
      "execution_count": 6,
      "outputs": [
        {
          "output_type": "stream",
          "text": [
            "[[1 2 3]\n",
            " [4 5 6]]\n"
          ],
          "name": "stdout"
        }
      ]
    },
    {
      "cell_type": "code",
      "metadata": {
        "colab": {
          "base_uri": "https://localhost:8080/"
        },
        "id": "IJHHhIITgJ9v",
        "outputId": "c6d4d7d4-dd09-401d-c2b0-175e0143146e"
      },
      "source": [
        "import numpy as np\n",
        "arr4=np.array([[1,2,3],[4,5,6]])\n",
        "print(arr4.dtype)\n",
        "print(arr4.ndim)\n",
        "print(arr4.shape)\n",
        "print(arr4.size)\n"
      ],
      "execution_count": 9,
      "outputs": [
        {
          "output_type": "stream",
          "text": [
            "int64\n",
            "2\n",
            "(2, 3)\n",
            "6\n"
          ],
          "name": "stdout"
        }
      ]
    },
    {
      "cell_type": "code",
      "metadata": {
        "colab": {
          "base_uri": "https://localhost:8080/"
        },
        "id": "1C3SRFLqhChO",
        "outputId": "8237489d-dff8-449e-969f-c6e81808e5b1"
      },
      "source": [
        "zero1 = np.zeros((2,2))\n",
        "print(zero1)\n"
      ],
      "execution_count": 10,
      "outputs": [
        {
          "output_type": "stream",
          "text": [
            "[[0. 0.]\n",
            " [0. 0.]]\n"
          ],
          "name": "stdout"
        }
      ]
    },
    {
      "cell_type": "code",
      "metadata": {
        "colab": {
          "base_uri": "https://localhost:8080/"
        },
        "id": "He1YnNXnhkhw",
        "outputId": "0a935902-563c-405b-a4d3-8ed3a20c8dfd"
      },
      "source": [
        "import numpy as np\n",
        "c = np.arange(3,10,2)\n",
        "print(type(c))\n"
      ],
      "execution_count": 12,
      "outputs": [
        {
          "output_type": "stream",
          "text": [
            "<class 'numpy.ndarray'>\n"
          ],
          "name": "stdout"
        }
      ]
    },
    {
      "cell_type": "code",
      "metadata": {
        "colab": {
          "base_uri": "https://localhost:8080/"
        },
        "id": "c7HKhp2xiJyO",
        "outputId": "41b4cd88-31fb-42bc-f89a-a05a67905307"
      },
      "source": [
        "a = [1,2,3,4,5]\n",
        "b=np.array(a)\n",
        "print(b)\n",
        "#slicing- creating substrings from the main string,if we want to divide the elements in list\n",
        "#indexing - getting the value from a specific index position ,or range to upper range \n",
        "#range(lower,upper+1)-0 to 10(0,11)\n",
        "b[1]\n",
        "b[4]"
      ],
      "execution_count": 13,
      "outputs": [
        {
          "output_type": "stream",
          "text": [
            "[1 2 3 4 5]\n"
          ],
          "name": "stdout"
        },
        {
          "output_type": "execute_result",
          "data": {
            "text/plain": [
              "5"
            ]
          },
          "metadata": {
            "tags": []
          },
          "execution_count": 13
        }
      ]
    },
    {
      "cell_type": "code",
      "metadata": {
        "colab": {
          "base_uri": "https://localhost:8080/"
        },
        "id": "WocdJ8_BjVlv",
        "outputId": "aaf1b6f2-ae58-436b-a9f8-638c204c5c28"
      },
      "source": [
        "b[0:3]"
      ],
      "execution_count": 14,
      "outputs": [
        {
          "output_type": "execute_result",
          "data": {
            "text/plain": [
              "array([1, 2, 3])"
            ]
          },
          "metadata": {
            "tags": []
          },
          "execution_count": 14
        }
      ]
    },
    {
      "cell_type": "code",
      "metadata": {
        "colab": {
          "base_uri": "https://localhost:8080/"
        },
        "id": "4u_IP5SCj5sL",
        "outputId": "d5897ec9-9ec6-4c54-c1bc-285f3d01f853"
      },
      "source": [
        "b[0]=10\n",
        "print(b)\n"
      ],
      "execution_count": 16,
      "outputs": [
        {
          "output_type": "stream",
          "text": [
            "[10  2  3  4  5]\n"
          ],
          "name": "stdout"
        }
      ]
    },
    {
      "cell_type": "code",
      "metadata": {
        "colab": {
          "base_uri": "https://localhost:8080/"
        },
        "id": "pOag3gtzkChe",
        "outputId": "f11af12e-3cdb-47f1-c34f-509d0626e194"
      },
      "source": [
        "#2nd index to remaining\n",
        "print(b[2: ])"
      ],
      "execution_count": 17,
      "outputs": [
        {
          "output_type": "stream",
          "text": [
            "[3 4 5]\n"
          ],
          "name": "stdout"
        }
      ]
    },
    {
      "cell_type": "code",
      "metadata": {
        "colab": {
          "base_uri": "https://localhost:8080/"
        },
        "id": "bfwKjzP3kQOz",
        "outputId": "567ffc67-992f-404a-bfde-7bcd28851ffa"
      },
      "source": [
        "print(b[ :3])"
      ],
      "execution_count": 18,
      "outputs": [
        {
          "output_type": "stream",
          "text": [
            "[10  2  3]\n"
          ],
          "name": "stdout"
        }
      ]
    },
    {
      "cell_type": "code",
      "metadata": {
        "colab": {
          "base_uri": "https://localhost:8080/"
        },
        "id": "oZBeBXcbkliR",
        "outputId": "ac5d80dc-c59b-457b-a1e9-474d1a38be58"
      },
      "source": [
        "c = np.array([[1,2,3,4,5],[6,7,8,9,10]])\n",
        "c\n",
        "print(c[1])\n",
        "print(c[1][3])"
      ],
      "execution_count": 19,
      "outputs": [
        {
          "output_type": "stream",
          "text": [
            "[ 6  7  8  9 10]\n",
            "9\n"
          ],
          "name": "stdout"
        }
      ]
    },
    {
      "cell_type": "markdown",
      "metadata": {
        "id": "kHQsJUGolTXE"
      },
      "source": [
        "# **pandas library implementation**"
      ]
    },
    {
      "cell_type": "code",
      "metadata": {
        "id": "mBZo_tPulZFp"
      },
      "source": [
        "dataset.shape\n",
        "dataset.info()\n",
        "#dsecription of dataset\n",
        "dataset.describe()\n",
        "dataset1=pd.read_html('https://en.wikipedia.org/wiki/Data_science')\n",
        "dataset[['Age','estimation','purchased']]"
      ],
      "execution_count": null,
      "outputs": []
    }
  ]
}